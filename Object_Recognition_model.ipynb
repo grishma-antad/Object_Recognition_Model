{
 "cells": [
  {
   "cell_type": "markdown",
   "id": "118900b3",
   "metadata": {},
   "source": [
    "# Importing Libraries"
   ]
  },
  {
   "cell_type": "code",
   "execution_count": 2,
   "id": "aacb812d",
   "metadata": {},
   "outputs": [],
   "source": [
    "import tensorflow as tf\n",
    "from tensorflow.keras.preprocessing.image import ImageDataGenerator\n",
    "from tensorflow.keras.applications import ResNet50\n",
    "from tensorflow.keras import layers, models\n",
    "from tensorflow.keras.optimizers import Adam\n",
    "import matplotlib.pyplot as plt"
   ]
  },
  {
   "cell_type": "code",
   "execution_count": 3,
   "id": "77da9c56",
   "metadata": {},
   "outputs": [],
   "source": [
    "train_data_dir = \"C:/Users/Grishma Antad/Downloads/Object Recognition/archive/Alzheimer_s Dataset/train\"\n",
    "test_data_dir = \"C:/Users/Grishma Antad/Downloads/Object Recognition/archive/Alzheimer_s Dataset/test\""
   ]
  },
  {
   "cell_type": "code",
   "execution_count": 4,
   "id": "c7ab53f6",
   "metadata": {},
   "outputs": [],
   "source": [
    "img_size = (224, 224)\n",
    "batch_size = 32"
   ]
  },
  {
   "cell_type": "markdown",
   "id": "9bdce447",
   "metadata": {},
   "source": [
    "# Data  Augmentation and Normalization"
   ]
  },
  {
   "cell_type": "code",
   "execution_count": 5,
   "id": "fb07a053",
   "metadata": {},
   "outputs": [],
   "source": [
    "train_datagen = ImageDataGenerator(\n",
    "    rescale=1./255,\n",
    "    shear_range=0.2,\n",
    "    zoom_range=0.2,\n",
    "    horizontal_flip = True\n",
    ")\n",
    "\n",
    "test_datagen = ImageDataGenerator(rescale=1./255)"
   ]
  },
  {
   "cell_type": "markdown",
   "id": "dc45dbeb",
   "metadata": {},
   "source": [
    "# Load and prepare the training data"
   ]
  },
  {
   "cell_type": "code",
   "execution_count": 6,
   "id": "2a5d039b",
   "metadata": {},
   "outputs": [
    {
     "name": "stdout",
     "output_type": "stream",
     "text": [
      "Found 5121 images belonging to 4 classes.\n"
     ]
    }
   ],
   "source": [
    "train_generator = train_datagen.flow_from_directory(\n",
    "    train_data_dir,\n",
    "    target_size=img_size,\n",
    "    batch_size=batch_size,\n",
    "    class_mode='categorical'\n",
    ")"
   ]
  },
  {
   "cell_type": "markdown",
   "id": "dd38d04f",
   "metadata": {},
   "source": [
    "# Load pre-trained ResNet50 model"
   ]
  },
  {
   "cell_type": "code",
   "execution_count": 7,
   "id": "1114a321",
   "metadata": {},
   "outputs": [],
   "source": [
    "base_model = ResNet50(weights='imagenet', include_top=False, input_shape=(224, 224, 3))\n"
   ]
  },
  {
   "cell_type": "markdown",
   "id": "182d3aa2",
   "metadata": {},
   "source": [
    "# Freeze the layers of the pre-trained model"
   ]
  },
  {
   "cell_type": "code",
   "execution_count": 8,
   "id": "620c9523",
   "metadata": {},
   "outputs": [],
   "source": [
    "for layer in base_model.layers:\n",
    "    layer.trainable = False"
   ]
  },
  {
   "cell_type": "markdown",
   "id": "13e23f7c",
   "metadata": {},
   "source": [
    "# Building Custom model on top of ResNet50"
   ]
  },
  {
   "cell_type": "code",
   "execution_count": 9,
   "id": "e9a4393b",
   "metadata": {},
   "outputs": [],
   "source": [
    "model = models.Sequential()\n",
    "model.add(base_model)\n",
    "model.add(layers.GlobalAveragePooling2D())\n",
    "model.add(layers.Dense(256, activation='relu'))\n",
    "model.add(layers.Dropout(0.5))\n",
    "model.add(layers.Dense(train_generator.num_classes, activation='softmax'))\n"
   ]
  },
  {
   "cell_type": "markdown",
   "id": "f38c8658",
   "metadata": {},
   "source": [
    "# Compile the model"
   ]
  },
  {
   "cell_type": "code",
   "execution_count": 10,
   "id": "b06424e0",
   "metadata": {},
   "outputs": [],
   "source": [
    "model.compile(optimizer=Adam(learning_rate=0.001), loss='categorical_crossentropy', metrics=['accuracy'])\n"
   ]
  },
  {
   "cell_type": "markdown",
   "id": "bc155de7",
   "metadata": {},
   "source": [
    "# Train the model"
   ]
  },
  {
   "cell_type": "code",
   "execution_count": 13,
   "id": "61b57bfd",
   "metadata": {},
   "outputs": [
    {
     "name": "stdout",
     "output_type": "stream",
     "text": [
      "Epoch 1/10\n",
      "160/160 [==============================] - 521s 3s/step - loss: 1.0889 - accuracy: 0.4769\n",
      "Epoch 2/10\n",
      "160/160 [==============================] - 465s 3s/step - loss: 1.0427 - accuracy: 0.4965\n",
      "Epoch 3/10\n",
      "160/160 [==============================] - 423s 3s/step - loss: 1.0326 - accuracy: 0.5003\n",
      "Epoch 4/10\n",
      "160/160 [==============================] - 450s 3s/step - loss: 1.0328 - accuracy: 0.4981\n",
      "Epoch 5/10\n",
      "160/160 [==============================] - 506s 3s/step - loss: 1.0305 - accuracy: 0.4991\n",
      "Epoch 6/10\n",
      "160/160 [==============================] - 509s 3s/step - loss: 1.0275 - accuracy: 0.4981\n",
      "Epoch 7/10\n",
      "160/160 [==============================] - 506s 3s/step - loss: 1.0278 - accuracy: 0.4993\n",
      "Epoch 8/10\n",
      "160/160 [==============================] - 505s 3s/step - loss: 1.0247 - accuracy: 0.4993\n",
      "Epoch 9/10\n",
      "160/160 [==============================] - 498s 3s/step - loss: 1.0203 - accuracy: 0.5025\n",
      "Epoch 10/10\n",
      "160/160 [==============================] - 444s 3s/step - loss: 1.0231 - accuracy: 0.4985\n"
     ]
    }
   ],
   "source": [
    "history = model.fit(\n",
    "    train_generator,\n",
    "    steps_per_epoch=train_generator.samples // batch_size,\n",
    "    epochs=10,\n",
    ")"
   ]
  },
  {
   "cell_type": "markdown",
   "id": "6e302fbe",
   "metadata": {},
   "source": [
    "# Evaluating the Model"
   ]
  },
  {
   "cell_type": "code",
   "execution_count": 14,
   "id": "24228463",
   "metadata": {},
   "outputs": [
    {
     "name": "stdout",
     "output_type": "stream",
     "text": [
      "Found 1279 images belonging to 4 classes.\n",
      "40/40 [==============================] - 120s 3s/step - loss: 1.0295 - accuracy: 0.5004\n",
      "Test accuracy: 0.5003909468650818\n"
     ]
    }
   ],
   "source": [
    "test_generator = test_datagen.flow_from_directory(\n",
    "    test_data_dir,\n",
    "    target_size=img_size,\n",
    "    batch_size=batch_size,\n",
    "    class_mode='categorical'\n",
    ")\n",
    "\n",
    "test_loss, test_acc = model.evaluate(test_generator)\n",
    "print(f'Test accuracy: {test_acc}')\n",
    "\n"
   ]
  },
  {
   "cell_type": "code",
   "execution_count": 17,
   "id": "950f0a75",
   "metadata": {},
   "outputs": [
    {
     "data": {
      "image/png": "[encoded data removed]",
      "text/plain": [
       "<Figure size 1000x400 with 2 Axes>"
      ]
     },
     "metadata": {},
     "output_type": "display_data"
    }
   ],
   "source": [
    "def plot_history(history):\n",
    "    plt.figure(figsize=(10, 4))\n",
    "\n",
    "    plt.subplot(1, 2, 1)\n",
    "    plt.plot(history.history['accuracy'])\n",
    "    plt.title('Model accuracy')\n",
    "    plt.xlabel('Epoch')\n",
    "    plt.ylabel('Accuracy')\n",
    "    plt.legend(['Train'], loc='upper left')\n",
    "\n",
    "    plt.subplot(1, 2, 2)\n",
    "    plt.plot(history.history['loss'])\n",
    "    plt.title('Model loss')\n",
    "    plt.xlabel('Epoch')\n",
    "    plt.ylabel('Loss')\n",
    "    plt.legend(['Train'], loc='upper left')\n",
    "\n",
    "    plt.tight_layout()\n",
    "    plt.show()\n",
    "\n",
    "plot_history(history)"
   ]
  },
  {
   "cell_type": "code",
   "execution_count": null,
   "id": "0f803f33",
   "metadata": {},
   "outputs": [],
   "source": []
  }
 ],
 "metadata": {
  "kernelspec": {
   "display_name": "Python 3 (ipykernel)",
   "language": "python",
   "name": "python3"
  },
  "language_info": {
   "codemirror_mode": {
    "name": "ipython",
    "version": 3
   },
   "file_extension": ".py",
   "mimetype": "text/x-python",
   "name": "python",
   "nbconvert_exporter": "python",
   "pygments_lexer": "ipython3",
   "version": "3.11.5"
  }
 },
 "nbformat": 4,
 "nbformat_minor": 5
}
